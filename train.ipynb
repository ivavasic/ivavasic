{
  "nbformat": 4,
  "nbformat_minor": 0,
  "metadata": {
    "colab": {
      "name": "train.ipynb",
      "provenance": [],
      "include_colab_link": true
    },
    "kernelspec": {
      "name": "python3",
      "display_name": "Python 3"
    },
    "accelerator": "GPU"
  },
  "cells": [
    {
      "cell_type": "markdown",
      "metadata": {
        "id": "view-in-github",
        "colab_type": "text"
      },
      "source": [
        "<a href=\"https://colab.research.google.com/github/ivavasic/ivavasic/blob/main/train.ipynb\" target=\"_parent\"><img src=\"https://colab.research.google.com/assets/colab-badge.svg\" alt=\"Open In Colab\"/></a>"
      ]
    },
    {
      "cell_type": "code",
      "metadata": {
        "id": "ee0aR_dul6aN"
      },
      "source": [
        "#from __future__ import print_function\n",
        "\n",
        "import numpy as np\n",
        "\n",
        "from tensorflow import keras\n",
        "from keras.datasets import mnist\n",
        "from keras.models import Sequential\n",
        "from keras.layers import Dense, Dropout, Flatten\n",
        "from keras.layers import Conv2D, MaxPooling2D\n",
        "from keras import backend as K\n",
        "from keras.callbacks import TensorBoard\n",
        "from keras.models import model_from_json\n",
        "\n",
        "from sklearn.metrics import confusion_matrix"
      ],
      "execution_count": null,
      "outputs": []
    },
    {
      "cell_type": "markdown",
      "metadata": {
        "id": "j-8NZvcE5Mrg"
      },
      "source": [
        ""
      ]
    },
    {
      "cell_type": "code",
      "metadata": {
        "id": "Yve_mg5jl9GO",
        "colab": {
          "base_uri": "https://localhost:8080/"
        },
        "outputId": "07398581-5f01-49d4-9572-478eed7daede"
      },
      "source": [
        "# input image dimensions\n",
        "img_rows, img_cols = 28, 28\n",
        "\n",
        "# the data, shuffled and split between train and test sets\n",
        "(x_train, y_train), (x_test, y_test) = mnist.load_data()\n",
        "\n",
        "num_classes = 10"
      ],
      "execution_count": null,
      "outputs": [
        {
          "output_type": "stream",
          "name": "stdout",
          "text": [
            "Downloading data from https://storage.googleapis.com/tensorflow/tf-keras-datasets/mnist.npz\n",
            "11493376/11490434 [==============================] - 0s 0us/step\n",
            "11501568/11490434 [==============================] - 0s 0us/step\n"
          ]
        }
      ]
    },
    {
      "cell_type": "code",
      "metadata": {
        "colab": {
          "base_uri": "https://localhost:8080/",
          "height": 36
        },
        "id": "r71RN2_y4-FN",
        "outputId": "adfdf7fe-2ced-4e97-eec2-52a1f25155fb"
      },
      "source": [
        "K.image_data_format()"
      ],
      "execution_count": null,
      "outputs": [
        {
          "output_type": "execute_result",
          "data": {
            "text/plain": [
              "'channels_last'"
            ],
            "application/vnd.google.colaboratory.intrinsic+json": {
              "type": "string"
            }
          },
          "metadata": {},
          "execution_count": 3
        }
      ]
    },
    {
      "cell_type": "code",
      "metadata": {
        "id": "aSLNyrpWl_R8"
      },
      "source": [
        "if K.image_data_format() == 'channels_first':\n",
        "    x_train = x_train.reshape(x_train.shape[0], 1, img_rows, img_cols)\n",
        "    x_test = x_test.reshape(x_test.shape[0], 1, img_rows, img_cols)\n",
        "    input_shape = (1, img_rows, img_cols)\n",
        "else:\n",
        "    x_train = x_train.reshape(x_train.shape[0], img_rows, img_cols, 1)\n",
        "    x_test = x_test.reshape(x_test.shape[0], img_rows, img_cols, 1)\n",
        "    input_shape = (img_rows, img_cols, 1)"
      ],
      "execution_count": null,
      "outputs": []
    },
    {
      "cell_type": "code",
      "metadata": {
        "id": "f7TdCTp5mGP9",
        "colab": {
          "base_uri": "https://localhost:8080/"
        },
        "outputId": "d08bb836-ef42-4825-c662-baf03315a5a5"
      },
      "source": [
        "x_train = x_train.astype('float32')\n",
        "x_test = x_test.astype('float32')\n",
        "x_train /= 255\n",
        "x_test /= 255\n",
        "print('x_train shape:', x_train.shape)\n",
        "print(x_train.shape[0], 'train samples')\n",
        "print(x_test.shape[0], 'test samples')"
      ],
      "execution_count": null,
      "outputs": [
        {
          "output_type": "stream",
          "name": "stdout",
          "text": [
            "x_train shape: (60000, 28, 28, 1)\n",
            "60000 train samples\n",
            "10000 test samples\n"
          ]
        }
      ]
    },
    {
      "cell_type": "code",
      "metadata": {
        "id": "hUW7gXF37-7N"
      },
      "source": [
        "# image  with a 9\n",
        "# target = 9\n",
        "\n",
        "#output of our CNN is [0.01 0.02.... 0.95] <-> target\n",
        "#target -> one hot encoding [0 0 0 ... 1]"
      ],
      "execution_count": null,
      "outputs": []
    },
    {
      "cell_type": "code",
      "metadata": {
        "id": "F2L_HFyUmH7q"
      },
      "source": [
        "from keras.utils import np_utils\n",
        "\n",
        "# convert class vectors to categorical values\n",
        "y_train = np_utils.to_categorical(y_train, num_classes)\n",
        "y_test = np_utils.to_categorical(y_test, num_classes)"
      ],
      "execution_count": null,
      "outputs": []
    },
    {
      "cell_type": "code",
      "metadata": {
        "id": "P4p_odbFmKAB",
        "colab": {
          "base_uri": "https://localhost:8080/"
        },
        "outputId": "8df6b619-303e-413d-e92d-f27afa0af2c6"
      },
      "source": [
        "model = Sequential()\n",
        "model.add(Conv2D(32, kernel_size=(3, 3),\n",
        "                 activation='relu',\n",
        "                 input_shape=input_shape))\n",
        "model.add(Conv2D(64, (3, 3), activation='relu'))\n",
        "model.add(MaxPooling2D(pool_size=(2, 2)))\n",
        "model.add(Dropout(0.25))\n",
        "model.add(Flatten())\n",
        "model.add(Dense(128, activation='relu'))\n",
        "model.add(Dropout(0.5))\n",
        "model.add(Dense(num_classes, activation='softmax'))\n",
        "\n",
        "model.summary()"
      ],
      "execution_count": null,
      "outputs": [
        {
          "output_type": "stream",
          "name": "stdout",
          "text": [
            "Model: \"sequential\"\n",
            "_________________________________________________________________\n",
            " Layer (type)                Output Shape              Param #   \n",
            "=================================================================\n",
            " conv2d (Conv2D)             (None, 26, 26, 32)        320       \n",
            "                                                                 \n",
            " conv2d_1 (Conv2D)           (None, 24, 24, 64)        18496     \n",
            "                                                                 \n",
            " max_pooling2d (MaxPooling2D  (None, 12, 12, 64)       0         \n",
            " )                                                               \n",
            "                                                                 \n",
            " dropout (Dropout)           (None, 12, 12, 64)        0         \n",
            "                                                                 \n",
            " flatten (Flatten)           (None, 9216)              0         \n",
            "                                                                 \n",
            " dense (Dense)               (None, 128)               1179776   \n",
            "                                                                 \n",
            " dropout_1 (Dropout)         (None, 128)               0         \n",
            "                                                                 \n",
            " dense_1 (Dense)             (None, 10)                1290      \n",
            "                                                                 \n",
            "=================================================================\n",
            "Total params: 1,199,882\n",
            "Trainable params: 1,199,882\n",
            "Non-trainable params: 0\n",
            "_________________________________________________________________\n"
          ]
        }
      ]
    },
    {
      "cell_type": "code",
      "metadata": {
        "id": "C4DEuIyJmd-F"
      },
      "source": [
        "batch_size = 128\n",
        "epochs = 4#20"
      ],
      "execution_count": null,
      "outputs": []
    },
    {
      "cell_type": "code",
      "metadata": {
        "id": "PwZO3d0W5yBc"
      },
      "source": [
        "LOG_DIR = 'log_dir'"
      ],
      "execution_count": null,
      "outputs": []
    },
    {
      "cell_type": "code",
      "metadata": {
        "id": "3cyI1qZSmae1",
        "colab": {
          "base_uri": "https://localhost:8080/"
        },
        "outputId": "efb48135-ac6b-4c4c-d4de-99b5d93cc513"
      },
      "source": [
        "model.compile(loss=keras.losses.categorical_crossentropy,\n",
        "              optimizer=keras.optimizers.Adadelta(),\n",
        "              metrics=['accuracy'])\n",
        "\n",
        "tbCallBack = TensorBoard(log_dir=LOG_DIR, \n",
        "                         histogram_freq=1,\n",
        "                         write_graph=True,\n",
        "                         write_grads=True,\n",
        "                         batch_size=batch_size,\n",
        "                         write_images=True)\n",
        "\n",
        "model.fit(x_train, y_train,\n",
        "          batch_size=batch_size,\n",
        "          epochs=epochs,\n",
        "          verbose=1,\n",
        "          validation_data=(x_test, y_test), #here I should have a validation set (x_valid, y_valid)! \n",
        "          callbacks=[tbCallBack])\n",
        "\n",
        "score = model.evaluate(x_test, y_test, verbose=0)\n",
        "print('Test loss:', score[0])\n",
        "print('Test accuracy:', score[1])\n"
      ],
      "execution_count": null,
      "outputs": [
        {
          "output_type": "stream",
          "name": "stdout",
          "text": [
            "WARNING:tensorflow:`write_grads` will be ignored in TensorFlow 2.0 for the `TensorBoard` Callback.\n",
            "WARNING:tensorflow:`batch_size` is no longer needed in the `TensorBoard` Callback and will be ignored in TensorFlow 2.0.\n",
            "Epoch 1/4\n",
            "469/469 [==============================] - 17s 12ms/step - loss: 2.2843 - accuracy: 0.1689 - val_loss: 2.2535 - val_accuracy: 0.2772\n",
            "Epoch 2/4\n",
            "469/469 [==============================] - 5s 11ms/step - loss: 2.2332 - accuracy: 0.2637 - val_loss: 2.1883 - val_accuracy: 0.4387\n",
            "Epoch 3/4\n",
            "469/469 [==============================] - 5s 12ms/step - loss: 2.1653 - accuracy: 0.3597 - val_loss: 2.1008 - val_accuracy: 0.5437\n",
            "Epoch 4/4\n",
            "469/469 [==============================] - 6s 12ms/step - loss: 2.0744 - accuracy: 0.4318 - val_loss: 1.9833 - val_accuracy: 0.6246\n",
            "Test loss: 1.9833201169967651\n",
            "Test accuracy: 0.6245999932289124\n"
          ]
        }
      ]
    },
    {
      "cell_type": "code",
      "metadata": {
        "id": "mBguwfH0Xs6u"
      },
      "source": [
        "!mkdir \"results\""
      ],
      "execution_count": null,
      "outputs": []
    },
    {
      "cell_type": "code",
      "metadata": {
        "id": "UYEV-tqaxMK2",
        "colab": {
          "base_uri": "https://localhost:8080/"
        },
        "outputId": "95eb448f-409e-434d-a027-ae91bb12a7e4"
      },
      "source": [
        "model_json = model.to_json()\n",
        "with open(\"results/model.json\", \"w\") as json_file:\n",
        "    json_file.write(model_json)\n",
        "        \n",
        "model.save_weights('results/model_weights.h5')\n",
        "\n",
        "model.save('results/model')"
      ],
      "execution_count": null,
      "outputs": [
        {
          "output_type": "stream",
          "name": "stdout",
          "text": [
            "INFO:tensorflow:Assets written to: results/model/assets\n"
          ]
        }
      ]
    },
    {
      "cell_type": "code",
      "metadata": {
        "id": "JSRQON7XYuA_",
        "colab": {
          "base_uri": "https://localhost:8080/"
        },
        "outputId": "62d996ae-69e2-43b3-cca1-2cb7371a583e"
      },
      "source": [
        "!zip -r results.zip results"
      ],
      "execution_count": null,
      "outputs": [
        {
          "output_type": "stream",
          "name": "stdout",
          "text": [
            "  adding: results/ (stored 0%)\n",
            "  adding: results/model_weights.h5 (deflated 9%)\n",
            "  adding: results/model/ (stored 0%)\n",
            "  adding: results/model/keras_metadata.pb (deflated 90%)\n",
            "  adding: results/model/variables/ (stored 0%)\n",
            "  adding: results/model/variables/variables.data-00000-of-00001 (deflated 7%)\n",
            "  adding: results/model/variables/variables.index (deflated 65%)\n",
            "  adding: results/model/assets/ (stored 0%)\n",
            "  adding: results/model/saved_model.pb (deflated 88%)\n",
            "  adding: results/model.json (deflated 81%)\n"
          ]
        }
      ]
    },
    {
      "cell_type": "code",
      "metadata": {
        "id": "h9ilMD1wK_MZ"
      },
      "source": [
        ""
      ],
      "execution_count": null,
      "outputs": []
    },
    {
      "cell_type": "code",
      "metadata": {
        "id": "LXy33ie_K_Pc"
      },
      "source": [
        ""
      ],
      "execution_count": null,
      "outputs": []
    },
    {
      "cell_type": "code",
      "metadata": {
        "id": "8-Y74LbIK_SY"
      },
      "source": [
        ""
      ],
      "execution_count": null,
      "outputs": []
    },
    {
      "cell_type": "code",
      "metadata": {
        "id": "ZiToWy_FK_VP"
      },
      "source": [
        ""
      ],
      "execution_count": null,
      "outputs": []
    },
    {
      "cell_type": "code",
      "metadata": {
        "id": "V7jGek5BK_X2"
      },
      "source": [
        ""
      ],
      "execution_count": null,
      "outputs": []
    },
    {
      "cell_type": "code",
      "metadata": {
        "id": "yEX9jtNxK_af"
      },
      "source": [
        ""
      ],
      "execution_count": null,
      "outputs": []
    },
    {
      "cell_type": "code",
      "metadata": {
        "id": "4jVGYDqvK_dU"
      },
      "source": [
        ""
      ],
      "execution_count": null,
      "outputs": []
    },
    {
      "cell_type": "code",
      "metadata": {
        "id": "gJpNT2tjxQTF",
        "colab": {
          "base_uri": "https://localhost:8080/"
        },
        "outputId": "435f35d7-7b8d-45e8-c4f2-14f4179a9cae"
      },
      "source": [
        "# load json and create model\n",
        "json_file = open('results/model.json', 'r')\n",
        "loaded_model_json = json_file.read()\n",
        "json_file.close()\n",
        "loaded_model = model_from_json(loaded_model_json)\n",
        "# load weights into new model\n",
        "loaded_model.load_weights(\"results/model_weights.h5\")\n",
        "print(\"Loaded model from disk\")"
      ],
      "execution_count": null,
      "outputs": [
        {
          "output_type": "stream",
          "name": "stdout",
          "text": [
            "Loaded model from disk\n"
          ]
        }
      ]
    },
    {
      "cell_type": "code",
      "metadata": {
        "id": "xjfut0fKxhj8",
        "colab": {
          "base_uri": "https://localhost:8080/"
        },
        "outputId": "eed13200-218a-4d1d-cdee-a304299e47b0"
      },
      "source": [
        "y_prob = loaded_model.predict(x_test)\n",
        "print(y_prob.shape)\n",
        "\n",
        "y_pred = np.argmax(y_prob, axis = 1)\n",
        "print(y_pred.shape)"
      ],
      "execution_count": null,
      "outputs": [
        {
          "output_type": "stream",
          "name": "stdout",
          "text": [
            "(10000, 10)\n",
            "(10000,)\n"
          ]
        }
      ]
    },
    {
      "cell_type": "code",
      "metadata": {
        "id": "WOKuUAka03Tj"
      },
      "source": [
        "y_test_ = np.argmax(y_test, axis = 1)"
      ],
      "execution_count": null,
      "outputs": []
    },
    {
      "cell_type": "code",
      "metadata": {
        "id": "utZQ7UZqx2xl",
        "colab": {
          "base_uri": "https://localhost:8080/"
        },
        "outputId": "87becc50-f3c2-4e2e-e8a2-be2fbc0c4d0f"
      },
      "source": [
        "confusion_matrix(y_test_, y_pred)"
      ],
      "execution_count": null,
      "outputs": [
        {
          "output_type": "execute_result",
          "data": {
            "text/plain": [
              "array([[ 785,    2,    0,   16,   21,    0,  144,    0,   12,    0],\n",
              "       [   0, 1112,    0,    4,    3,    0,    5,    0,   11,    0],\n",
              "       [  23,  148,  413,  242,   72,    0,   63,    2,   69,    0],\n",
              "       [   5,   56,    0,  886,    4,    0,    6,    1,   46,    6],\n",
              "       [   0,   33,    0,    0,  903,    0,   24,    0,   14,    8],\n",
              "       [  29,   55,    0,  264,  122,    0,   94,    0,  321,    7],\n",
              "       [  10,   42,    1,    3,   86,    0,  808,    0,    8,    0],\n",
              "       [  13,  177,    3,   87,  133,    0,    1,  431,   88,   95],\n",
              "       [  14,   96,    0,   92,   57,    0,   37,    2,  668,    8],\n",
              "       [   7,   97,    0,   25,  601,    0,    9,    0,   30,  240]])"
            ]
          },
          "metadata": {},
          "execution_count": 19
        }
      ]
    }
  ]
}